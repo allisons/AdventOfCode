{
 "cells": [
  {
   "cell_type": "code",
   "execution_count": 53,
   "id": "39fdc6a2-e8a0-4cdc-ac89-7b08874e9204",
   "metadata": {},
   "outputs": [],
   "source": [
    "import re\n",
    "from collections import defaultdict\n",
    "from functools import partial\n",
    "def parse_input(raw):\n",
    "    maps = {}\n",
    "    seeds = [int(i) for i in raw.split(\"\\n\\n\")[0].split(\": \")[1].split()]\n",
    "    order = [string for string in re.split(\"\\n\\n|:\",raw) if 'map' in string]\n",
    "    for chunk in raw.split(\"\\n\\n\")[1:]:\n",
    "        lines = chunk.split(\"\\n\")\n",
    "        name = lines[0][:-1]\n",
    "        maps[name] = Map()\n",
    "        ranges = [[int(v) for v in l.split()] for l in lines[1:]]\n",
    "        for effect in ranges:\n",
    "            maps[name].add_map(*effect)\n",
    "    return maps,order\n",
    "\n",
    "class Map(object):\n",
    "\n",
    "    def __init__(self):\n",
    "        self.maps = []\n",
    "\n",
    "    def add_map(self,source,dest,effect_range):\n",
    "        m = {'start':source,'end':source+effect_range,\"delta\":source-dest}\n",
    "        self.maps.append(m)\n",
    "\n",
    "    def map_value(self,value):\n",
    "        search = [i for i in range(len(self.maps)) if (value >= self.maps[i]['start'] and value < self.maps[i]['end'])]\n",
    "        assert len(search)<=1, \"Found more than one search.  This is a bug\"\n",
    "        if not any(search):\n",
    "            return value\n",
    "        else:\n",
    "            return value + self.maps[search[0]]['delta']        \n",
    "\n",
    "    def __repr__(self):\n",
    "        return f\"{self.maps}\"\n",
    "\n",
    "def return_path(almanac,order,value):\n",
    "    source = value\n",
    "    for m in order:\n",
    "        dest = almanac[m].map_value(source)\n",
    "        source = dest\n",
    "    return dest"
   ]
  },
  {
   "cell_type": "code",
   "execution_count": 49,
   "id": "139e0b19-b64e-4671-bb99-38f9819c11fe",
   "metadata": {},
   "outputs": [],
   "source": [
    "example = \"\"\"seeds: 79 14 55 13\n",
    "\n",
    "seed-to-soil map:\n",
    "50 98 2\n",
    "52 50 48\n",
    "\n",
    "soil-to-fertilizer map:\n",
    "0 15 37\n",
    "37 52 2\n",
    "39 0 15\n",
    "\n",
    "fertilizer-to-water map:\n",
    "49 53 8\n",
    "0 11 42\n",
    "42 0 7\n",
    "57 7 4\n",
    "\n",
    "water-to-light map:\n",
    "88 18 7\n",
    "18 25 70\n",
    "\n",
    "light-to-temperature map:\n",
    "45 77 23\n",
    "81 45 19\n",
    "68 64 13\n",
    "\n",
    "temperature-to-humidity map:\n",
    "0 69 1\n",
    "1 0 69\n",
    "\n",
    "humidity-to-location map:\n",
    "60 56 37\n",
    "56 93 4\"\"\""
   ]
  },
  {
   "cell_type": "code",
   "execution_count": 50,
   "id": "4205fe16-bb48-427b-9554-d92bbe03ee40",
   "metadata": {},
   "outputs": [
    {
     "data": {
      "text/plain": [
       "[81, 14, 57, 13]"
      ]
     },
     "execution_count": 50,
     "metadata": {},
     "output_type": "execute_result"
    }
   ],
   "source": [
    "almanac, order = parse_input(example)\n",
    "seed_to_soil_testcase = {79:81,14:14,55:57,13:13}\n",
    "[almanac['seed-to-soil map'].map_value(k)==v for k,v in seed_to_soil_testcase.items()]\n",
    "[almanac['seed-to-soil map'].map_value(k) for k,v in seed_to_soil_testcase.items()]"
   ]
  },
  {
   "cell_type": "code",
   "execution_count": 51,
   "id": "d14de9f4-b6e0-4660-b6cf-bd25163c3bb4",
   "metadata": {},
   "outputs": [
    {
     "data": {
      "text/plain": [
       "[{'start': 50, 'end': 52, 'delta': -48}, {'start': 52, 'end': 100, 'delta': 2}]"
      ]
     },
     "execution_count": 51,
     "metadata": {},
     "output_type": "execute_result"
    }
   ],
   "source": [
    "almanac['seed-to-soil map']"
   ]
  },
  {
   "cell_type": "code",
   "execution_count": 54,
   "id": "49da7c84-e52b-45c0-b2c3-644dd4095065",
   "metadata": {},
   "outputs": [
    {
     "data": {
      "text/plain": [
       "[False, False, False, False]"
      ]
     },
     "execution_count": 54,
     "metadata": {},
     "output_type": "execute_result"
    }
   ],
   "source": [
    "seed_to_location_test_case = {79:82,14:43,55:86,13:35}\n",
    "[return_path(almanac,order,k)==v for k,v in seed_to_location_test_case.items()]"
   ]
  },
  {
   "cell_type": "code",
   "execution_count": null,
   "id": "fe53eca4-90bb-4c67-9e36-78ccc88cde4d",
   "metadata": {},
   "outputs": [],
   "source": [
    "with open(\"2023_12_05_input.txt\") as f:\n",
    "    text = f.read()\n",
    "almanac,order = parse_input(text)"
   ]
  },
  {
   "cell_type": "code",
   "execution_count": 13,
   "id": "d4e9fc74-0d2f-43dd-8d31-c6c65905160e",
   "metadata": {},
   "outputs": [],
   "source": []
  },
  {
   "cell_type": "code",
   "execution_count": 17,
   "id": "a56c132a-3496-4a2e-b2a2-ee36e05bd5f2",
   "metadata": {},
   "outputs": [
    {
     "data": {
      "text/plain": [
       "75"
      ]
     },
     "execution_count": 17,
     "metadata": {},
     "output_type": "execute_result"
    }
   ],
   "source": [
    "return_path(almanac,order,79)"
   ]
  },
  {
   "cell_type": "code",
   "execution_count": 40,
   "id": "10ea3f04-b1ac-4480-a6e6-78d0134f4bb5",
   "metadata": {},
   "outputs": [
    {
     "data": {
      "text/plain": [
       "['seed-to-soil map',\n",
       " 'soil-to-fertilizer map',\n",
       " 'fertilizer-to-water map',\n",
       " 'water-to-light map',\n",
       " 'light-to-temperature map',\n",
       " 'temperature-to-humidity map',\n",
       " 'humidity-to-location map']"
      ]
     },
     "execution_count": 40,
     "metadata": {},
     "output_type": "execute_result"
    }
   ],
   "source": [
    "import re\n",
    "[string for string in re.split(\"\\n\\n|:\",example) if 'map' in string]"
   ]
  },
  {
   "cell_type": "code",
   "execution_count": null,
   "id": "0741a8d1-7eda-4d19-8dd2-57f6c3882c97",
   "metadata": {},
   "outputs": [],
   "source": []
  }
 ],
 "metadata": {
  "kernelspec": {
   "display_name": "Python 3 (ipykernel)",
   "language": "python",
   "name": "python3"
  },
  "language_info": {
   "codemirror_mode": {
    "name": "ipython",
    "version": 3
   },
   "file_extension": ".py",
   "mimetype": "text/x-python",
   "name": "python",
   "nbconvert_exporter": "python",
   "pygments_lexer": "ipython3",
   "version": "3.9.6"
  }
 },
 "nbformat": 4,
 "nbformat_minor": 5
}
