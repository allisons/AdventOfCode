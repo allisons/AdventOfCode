{
 "cells": [
  {
   "cell_type": "code",
   "execution_count": 65,
   "id": "6f6a5142-f064-4401-b76f-e3f790c15121",
   "metadata": {},
   "outputs": [
    {
     "data": {
      "text/plain": [
       "8"
      ]
     },
     "execution_count": 65,
     "metadata": {},
     "output_type": "execute_result"
    }
   ],
   "source": [
    "maxred = 12\n",
    "maxgreen = 13\n",
    "maxblue = 14\n",
    "\n",
    "sample = \"\"\"Game 1: 3 blue, 4 red; 1 red, 2 green, 6 blue; 2 green\n",
    "Game 2: 1 blue, 2 green; 3 green, 4 blue, 1 red; 1 green, 1 blue\n",
    "Game 3: 8 green, 6 blue, 20 red; 5 blue, 4 red, 13 green; 5 green, 1 red\n",
    "Game 4: 1 green, 3 red, 6 blue; 3 green, 6 red; 3 green, 15 blue, 14 red\n",
    "Game 5: 6 red, 1 blue, 3 green; 2 blue, 1 red, 2 green\"\"\"\n",
    "\n",
    "possible = {}\n",
    "for line in sample.split(\"\\n\"):\n",
    "    gameid, game = line.split(\": \")\n",
    "    rounds = game.split(\"; \")\n",
    "    rounds_possible = []\n",
    "    while rounds:\n",
    "        current = rounds.pop(0)\n",
    "        counts = {'red':0,'green':0,'blue':0}\n",
    "        draws = current.split(\", \")\n",
    "        while draws:\n",
    "            current_draw = draws.pop(0)\n",
    "            count, color = current_draw.split()\n",
    "            if counts[color] < int(count):\n",
    "                counts[color] = int(count)\n",
    "            else:\n",
    "                continue\n",
    "        check = counts['red'] <= maxred and counts['blue'] <= maxblue and counts['green']<=maxgreen\n",
    "        rounds_possible.append(check)\n",
    "    possible[int(gameid[5:])] = all(rounds_possible)\n",
    "sum([k for k,v in possible.items() if v])\n"
   ]
  },
  {
   "cell_type": "code",
   "execution_count": 75,
   "id": "9dc2f113-cda4-40dc-8284-679fbafc5e50",
   "metadata": {},
   "outputs": [],
   "source": [
    "def prod_list(list):\n",
    "    acc = 1\n",
    "    while list:\n",
    "        acc *= list.pop(0)\n",
    "    return acc"
   ]
  },
  {
   "cell_type": "code",
   "execution_count": 66,
   "id": "bd19d3a6-99c5-482e-bd26-493f618be656",
   "metadata": {},
   "outputs": [],
   "source": [
    "with open(\"2023_12_02_input.txt\") as fo:\n",
    "    input = fo.read()"
   ]
  },
  {
   "cell_type": "code",
   "execution_count": 67,
   "id": "b6684ba7-2c4e-4175-ab73-54cfcf4c19a0",
   "metadata": {},
   "outputs": [
    {
     "data": {
      "text/plain": [
       "2617"
      ]
     },
     "execution_count": 67,
     "metadata": {},
     "output_type": "execute_result"
    }
   ],
   "source": [
    "possible = {}\n",
    "for line in input.split(\"\\n\"):\n",
    "    gameid, game = line.split(\": \")\n",
    "    rounds = game.split(\"; \")\n",
    "    rounds_possible = []\n",
    "    while rounds:\n",
    "        current = rounds.pop(0)\n",
    "        counts = {'red':0,'green':0,'blue':0}\n",
    "        draws = current.split(\", \")\n",
    "        while draws:\n",
    "            current_draw = draws.pop(0)\n",
    "            count, color = current_draw.split()\n",
    "            if counts[color] < int(count):\n",
    "                counts[color] = int(count)\n",
    "            else:\n",
    "                continue\n",
    "        check = counts['red'] <= maxred and counts['blue'] <= maxblue and counts['green']<=maxgreen\n",
    "        rounds_possible.append(check)\n",
    "    possible[int(gameid[5:])] = all(rounds_possible)\n",
    "sum([k for k,v in possible.items() if v])"
   ]
  },
  {
   "cell_type": "code",
   "execution_count": 79,
   "id": "fa778195-a410-4484-9e99-cebe58ce4495",
   "metadata": {},
   "outputs": [
    {
     "data": {
      "text/plain": [
       "2286"
      ]
     },
     "execution_count": 79,
     "metadata": {},
     "output_type": "execute_result"
    }
   ],
   "source": [
    "maxred = 12\n",
    "maxgreen = 13\n",
    "maxblue = 14\n",
    "\n",
    "sample = \"\"\"Game 1: 3 blue, 4 red; 1 red, 2 green, 6 blue; 2 green\n",
    "Game 2: 1 blue, 2 green; 3 green, 4 blue, 1 red; 1 green, 1 blue\n",
    "Game 3: 8 green, 6 blue, 20 red; 5 blue, 4 red, 13 green; 5 green, 1 red\n",
    "Game 4: 1 green, 3 red, 6 blue; 3 green, 6 red; 3 green, 15 blue, 14 red\n",
    "Game 5: 6 red, 1 blue, 3 green; 2 blue, 1 red, 2 green\"\"\"\n",
    "\n",
    "required_power = []\n",
    "for line in sample.split(\"\\n\"):\n",
    "    gameid, game = line.split(\": \")\n",
    "    rounds = game.split(\"; \")\n",
    "    counts = {'red':0,'green':0,'blue':0}\n",
    "    while rounds:\n",
    "        current = rounds.pop(0)        \n",
    "        draws = current.split(\", \")\n",
    "        while draws:\n",
    "            current_draw = draws.pop(0)\n",
    "            count, color = current_draw.split()\n",
    "            if counts[color] < int(count):\n",
    "                counts[color] = int(count)\n",
    "            else:\n",
    "                continue\n",
    "    required_power.append(prod_list(list(counts.values())))\n",
    "sum(required_power)\n",
    "    \n"
   ]
  },
  {
   "cell_type": "code",
   "execution_count": 80,
   "id": "710ef43c-bd86-4a80-9b2d-5fb809811370",
   "metadata": {},
   "outputs": [
    {
     "data": {
      "text/plain": [
       "59795"
      ]
     },
     "execution_count": 80,
     "metadata": {},
     "output_type": "execute_result"
    }
   ],
   "source": [
    "required_power = []\n",
    "for line in input.split(\"\\n\"):\n",
    "    gameid, game = line.split(\": \")\n",
    "    rounds = game.split(\"; \")\n",
    "    counts = {'red':0,'green':0,'blue':0}\n",
    "    while rounds:\n",
    "        current = rounds.pop(0)        \n",
    "        draws = current.split(\", \")\n",
    "        while draws:\n",
    "            current_draw = draws.pop(0)\n",
    "            count, color = current_draw.split()\n",
    "            if counts[color] < int(count):\n",
    "                counts[color] = int(count)\n",
    "            else:\n",
    "                continue\n",
    "    required_power.append(prod_list(list(counts.values())))\n",
    "sum(required_power)\n",
    "    \n"
   ]
  },
  {
   "cell_type": "code",
   "execution_count": null,
   "id": "940bc7ef-da21-4749-b874-3782d02d225a",
   "metadata": {},
   "outputs": [],
   "source": []
  }
 ],
 "metadata": {
  "kernelspec": {
   "display_name": "Python 3 (ipykernel)",
   "language": "python",
   "name": "python3"
  },
  "language_info": {
   "codemirror_mode": {
    "name": "ipython",
    "version": 3
   },
   "file_extension": ".py",
   "mimetype": "text/x-python",
   "name": "python",
   "nbconvert_exporter": "python",
   "pygments_lexer": "ipython3",
   "version": "3.9.6"
  }
 },
 "nbformat": 4,
 "nbformat_minor": 5
}
