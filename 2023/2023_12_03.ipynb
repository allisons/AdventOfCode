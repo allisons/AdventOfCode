{
 "cells": [
  {
   "cell_type": "code",
   "execution_count": 112,
   "id": "cae339e0-6e60-41e5-9ea0-d7911c15f076",
   "metadata": {},
   "outputs": [],
   "source": [
    "from collections import defaultdict\n",
    "sample = \"\"\"467..114..\n",
    "...*......\n",
    "..35..633.\n",
    "......#...\n",
    "617*......\n",
    ".....+.58.\n",
    "..592.....\n",
    "......755.\n",
    "...$.*....\n",
    ".664.598..\"\"\"\n",
    "width = len(sample.split(\"\\n\")[0])+1\n",
    "def return_ix(span,lmax,width):\n",
    "    if min(span)%width != 0:\n",
    "        left = min(span)-1\n",
    "    else:\n",
    "        left = min(span)\n",
    "    if (max(span)+1)%width == 0:\n",
    "        right = max(span)+1\n",
    "    else:\n",
    "        right = max(span)\n",
    "    if not min(span) < width:\n",
    "        topleft = left-width\n",
    "    else:\n",
    "        topleft = left\n",
    "    topright = topleft+right-left\n",
    "    if max(span) < lmax-width:\n",
    "        bottomleft = left+width\n",
    "    else:\n",
    "        bottomleft = left\n",
    "    bottomright = bottomleft+right-left\n",
    "    return [i for i in list(range(left,right+1))+list(range(topleft,topright+1))+list(range(bottomleft,bottomright+1)) if i>=0 and i <  lmax]\n",
    "\n",
    "\n",
    "include = [467,35,633,617,592,755,664,598]\n",
    "exclude = [114,58]\n",
    "\n",
    "#a number is adjacent to a symbol if there is a symbol anywhere in the region around the number y-1,y+1,x-1,x+1\n"
   ]
  },
  {
   "cell_type": "code",
   "execution_count": 50,
   "id": "7861b607-10f0-4689-8cc8-b61f3e0602b4",
   "metadata": {},
   "outputs": [
    {
     "data": {
      "text/plain": [
       "[False, False, False, False, False, False, False, False, False, True, False]"
      ]
     },
     "execution_count": 50,
     "metadata": {},
     "output_type": "execute_result"
    }
   ],
   "source": [
    "[sample[i] in \"$*#+\" for i in return_ix([0,3],len(sample))]"
   ]
  },
  {
   "cell_type": "code",
   "execution_count": 92,
   "id": "bf8194fd-33f0-486a-9d46-f7d986e18f21",
   "metadata": {},
   "outputs": [],
   "source": [
    "input = sample\n",
    "symbols =re.sub(\"\\d+|\\.+\",\"\",input)\n",
    "pos = []\n",
    "neg = []\n",
    "width = len(input.split(\"\\n\")[0])+1\n",
    "for n in re.finditer(\"\\d{1,3}\",sample):\n",
    "    if any([input[i] in \"$*#+\" for i in return_ix(list(n.span()),len(input),width)]):\n",
    "        pos.append(n.group())\n",
    "    else:\n",
    "        neg.append(n.group())"
   ]
  },
  {
   "cell_type": "code",
   "execution_count": 93,
   "id": "909734fe-4412-4bc9-a3d1-0828e80c4c61",
   "metadata": {},
   "outputs": [
    {
     "data": {
      "text/plain": [
       "['467', '35', '633', '617', '592', '755', '664', '598']"
      ]
     },
     "execution_count": 93,
     "metadata": {},
     "output_type": "execute_result"
    }
   ],
   "source": [
    "pos"
   ]
  },
  {
   "cell_type": "code",
   "execution_count": 94,
   "id": "13c6e574-cf29-4ba7-972c-9e17a627dcbe",
   "metadata": {},
   "outputs": [
    {
     "data": {
      "text/plain": [
       "['114', '58']"
      ]
     },
     "execution_count": 94,
     "metadata": {},
     "output_type": "execute_result"
    }
   ],
   "source": [
    "neg"
   ]
  },
  {
   "cell_type": "code",
   "execution_count": 95,
   "id": "9130c380-df29-4527-8b1c-572663206eba",
   "metadata": {},
   "outputs": [],
   "source": [
    "with open(\"2023_12_03_input.txt\") as fo:\n",
    "    input = fo.read()\n",
    "symbols =re.sub(\"\\d+|\\.+|\\n\",\"\",input)\n",
    "pos = []\n",
    "neg = []\n",
    "width = len(input.split(\"\\n\")[0])+1\n",
    "for n in re.finditer(\"\\d{1,5}\",input):\n",
    "    if any([input[i] in symbols for i in return_ix(list(n.span()),len(input),width)]):\n",
    "        pos.append(n.group())\n",
    "    else:\n",
    "        neg.append(n.group())"
   ]
  },
  {
   "cell_type": "code",
   "execution_count": 96,
   "id": "98be5911-0860-41b1-a7c9-a104fdd230a3",
   "metadata": {},
   "outputs": [
    {
     "data": {
      "text/plain": [
       "539713"
      ]
     },
     "execution_count": 96,
     "metadata": {},
     "output_type": "execute_result"
    }
   ],
   "source": [
    "sum([int(i) for i in pos])"
   ]
  },
  {
   "cell_type": "code",
   "execution_count": 81,
   "id": "6ee96e81-ae21-4d46-837f-da241a4e84ab",
   "metadata": {},
   "outputs": [
    {
     "data": {
      "text/plain": [
       "{'#', '$', '%', '&', '*', '+', '-', '/', '=', '@'}"
      ]
     },
     "execution_count": 81,
     "metadata": {},
     "output_type": "execute_result"
    }
   ],
   "source": [
    "set(symbols)"
   ]
  },
  {
   "cell_type": "code",
   "execution_count": 113,
   "id": "c5fbb59b-d3ad-481d-b7af-99ae88e544ed",
   "metadata": {},
   "outputs": [
    {
     "data": {
      "text/plain": [
       "defaultdict(list, {14: ['467', '35'], 47: ['617'], 93: ['755', '598']})"
      ]
     },
     "execution_count": 113,
     "metadata": {},
     "output_type": "execute_result"
    }
   ],
   "source": [
    "input = sample\n",
    "symbol_adjacency = defaultdict(list)\n",
    "for n in re.finditer(\"\\d{1,5}\",input):\n",
    "    adj_index= [i for i in return_ix(list(n.span()),len(input),width) if input[i]==\"*\"]\n",
    "    for ix in adj_index:\n",
    "        symbol_adjacency[ix].append(n.group())\n",
    "g = []\n",
    "for k, v in symbol_adjacency.items():\n",
    "    if len(v) == 2:\n",
    "        g.append(int(v[0])*int(v[1]))\n",
    "symbol_adjacency"
   ]
  },
  {
   "cell_type": "code",
   "execution_count": 114,
   "id": "75b36d28-f602-42c8-b0a1-2262ea90178f",
   "metadata": {},
   "outputs": [
    {
     "data": {
      "text/plain": [
       "[16345, 451490]"
      ]
     },
     "execution_count": 114,
     "metadata": {},
     "output_type": "execute_result"
    }
   ],
   "source": []
  },
  {
   "cell_type": "code",
   "execution_count": 110,
   "id": "764bf393-f1ad-497a-b27a-524bedf03fd7",
   "metadata": {},
   "outputs": [
    {
     "data": {
      "text/plain": [
       "84159075"
      ]
     },
     "execution_count": 110,
     "metadata": {},
     "output_type": "execute_result"
    }
   ],
   "source": [
    "with open(\"2023_12_03_input.txt\") as fo:\n",
    "    input = fo.read()\n",
    "\n",
    "symbol_adjacency = defaultdict(list)\n",
    "width = len(input.split(\"\\n\")[0])+1\n",
    "\n",
    "for n in re.finditer(\"\\d{1,5}\",input):\n",
    "    adj_index= [i for i in return_ix(list(n.span()),len(input),width) if input[i]==\"*\"]\n",
    "    for ix in adj_index:\n",
    "        symbol_adjacency[ix].append(n.group())\n",
    "g = []\n",
    "for k, v in symbol_adjacency.items():\n",
    "    if len(v) == 2:\n",
    "        g.append(int(v[0])*int(v[1]))\n",
    "sum(g)"
   ]
  },
  {
   "cell_type": "code",
   "execution_count": 107,
   "id": "ccb038d2-ed82-4059-8dcc-80fd18ebcd4f",
   "metadata": {},
   "outputs": [
    {
     "data": {
      "text/plain": [
       "467835"
      ]
     },
     "execution_count": 107,
     "metadata": {},
     "output_type": "execute_result"
    }
   ],
   "source": []
  },
  {
   "cell_type": "code",
   "execution_count": null,
   "id": "6bec9e60-3df1-465e-8765-15cf2b296044",
   "metadata": {},
   "outputs": [],
   "source": []
  }
 ],
 "metadata": {
  "kernelspec": {
   "display_name": "Python 3 (ipykernel)",
   "language": "python",
   "name": "python3"
  },
  "language_info": {
   "codemirror_mode": {
    "name": "ipython",
    "version": 3
   },
   "file_extension": ".py",
   "mimetype": "text/x-python",
   "name": "python",
   "nbconvert_exporter": "python",
   "pygments_lexer": "ipython3",
   "version": "3.9.6"
  }
 },
 "nbformat": 4,
 "nbformat_minor": 5
}
