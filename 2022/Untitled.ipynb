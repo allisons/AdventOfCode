{
 "cells": [
  {
   "cell_type": "code",
   "execution_count": 129,
   "id": "6ff687f8-5fd8-422d-b1f6-5797b7ff8983",
   "metadata": {},
   "outputs": [],
   "source": [
    "from collections import defaultdict\n",
    "\n",
    "class Monkey(object):\n",
    "\n",
    "    def __init__(self):\n",
    "        self.items = []\n",
    "        self.inspection_count = 0\n",
    "\n",
    "    def setup_items(self,items):\n",
    "        self.items = items\n",
    "\n",
    "    def setup_operation(self,expression):\n",
    "        self.operation = eval(f\"lambda old: {expression}\")\n",
    "\n",
    "    def setup_rule(self,value):\n",
    "        self.rule = value\n",
    "\n",
    "    def setup_dest(self,TM,FM):\n",
    "        self.trueDest = TM\n",
    "        self.falseDest = FM\n",
    "\n",
    "    def set_modulo(self,value):\n",
    "        self.modulo=value\n",
    "\n",
    "    def inspect(self):\n",
    "        item = self.items.pop(0)\n",
    "        self.inspection_count+=1\n",
    "        item = self.operation(item)\n",
    "        if item % self.rule == 0:\n",
    "            self.trueDest.items.append(item%self.modulo)\n",
    "        else:\n",
    "            self.falseDest.items.append(item)\n",
    "\n",
    "    def __repr__(self):\n",
    "        return \", \".join([str(v) for v in self.items])\n",
    "\n",
    "\n",
    "full_input = \"\"\"Monkey 0:\n",
    "  Starting items: 63, 84, 80, 83, 84, 53, 88, 72\n",
    "  Operation: new = old * 11\n",
    "  Test: divisible by 13\n",
    "    If true: throw to monkey 4\n",
    "    If false: throw to monkey 7\n",
    "\n",
    "Monkey 1:\n",
    "  Starting items: 67, 56, 92, 88, 84\n",
    "  Operation: new = old + 4\n",
    "  Test: divisible by 11\n",
    "    If true: throw to monkey 5\n",
    "    If false: throw to monkey 3\n",
    "\n",
    "Monkey 2:\n",
    "  Starting items: 52\n",
    "  Operation: new = old * old\n",
    "  Test: divisible by 2\n",
    "    If true: throw to monkey 3\n",
    "    If false: throw to monkey 1\n",
    "\n",
    "Monkey 3:\n",
    "  Starting items: 59, 53, 60, 92, 69, 72\n",
    "  Operation: new = old + 2\n",
    "  Test: divisible by 5\n",
    "    If true: throw to monkey 5\n",
    "    If false: throw to monkey 6\n",
    "\n",
    "Monkey 4:\n",
    "  Starting items: 61, 52, 55, 61\n",
    "  Operation: new = old + 3\n",
    "  Test: divisible by 7\n",
    "    If true: throw to monkey 7\n",
    "    If false: throw to monkey 2\n",
    "\n",
    "Monkey 5:\n",
    "  Starting items: 79, 53\n",
    "  Operation: new = old + 1\n",
    "  Test: divisible by 3\n",
    "    If true: throw to monkey 0\n",
    "    If false: throw to monkey 6\n",
    "\n",
    "Monkey 6:\n",
    "  Starting items: 59, 86, 67, 95, 92, 77, 91\n",
    "  Operation: new = old + 5\n",
    "  Test: divisible by 19\n",
    "    If true: throw to monkey 4\n",
    "    If false: throw to monkey 0\n",
    "\n",
    "Monkey 7:\n",
    "  Starting items: 58, 83, 89\n",
    "  Operation: new = old * 19\n",
    "  Test: divisible by 17\n",
    "    If true: throw to monkey 2\n",
    "    If false: throw to monkey 1\"\"\"\n",
    "\n"
   ]
  },
  {
   "cell_type": "code",
   "execution_count": 74,
   "id": "ef5b6b14-cf79-4b3c-8fb2-663ba281a1e0",
   "metadata": {},
   "outputs": [],
   "source": [
    "test_input = \"\"\"Monkey 0:\n",
    "  Starting items: 79, 98\n",
    "  Operation: new = old * 19\n",
    "  Test: divisible by 23\n",
    "    If true: throw to monkey 2\n",
    "    If false: throw to monkey 3\n",
    "\n",
    "Monkey 1:\n",
    "  Starting items: 54, 65, 75, 74\n",
    "  Operation: new = old + 6\n",
    "  Test: divisible by 19\n",
    "    If true: throw to monkey 2\n",
    "    If false: throw to monkey 0\n",
    "\n",
    "Monkey 2:\n",
    "  Starting items: 79, 60, 97\n",
    "  Operation: new = old * old\n",
    "  Test: divisible by 13\n",
    "    If true: throw to monkey 1\n",
    "    If false: throw to monkey 3\n",
    "\n",
    "Monkey 3:\n",
    "  Starting items: 74\n",
    "  Operation: new = old + 3\n",
    "  Test: divisible by 17\n",
    "    If true: throw to monkey 0\n",
    "    If false: throw to monkey 1\"\"\""
   ]
  },
  {
   "cell_type": "code",
   "execution_count": 82,
   "id": "c67a678a-8993-470a-b7d6-25412c489f6f",
   "metadata": {},
   "outputs": [],
   "source": [
    "def prod_list(l):\n",
    "    acc = 1\n",
    "    while l:\n",
    "        acc*=l.pop(0)\n",
    "    return acc"
   ]
  },
  {
   "cell_type": "code",
   "execution_count": 84,
   "id": "0b4386e0-9556-42a3-bf4e-4b5ea067708d",
   "metadata": {},
   "outputs": [
    {
     "data": {
      "text/plain": [
       "105"
      ]
     },
     "execution_count": 84,
     "metadata": {},
     "output_type": "execute_result"
    }
   ],
   "source": [
    "prod_list([1,3,5,7])"
   ]
  },
  {
   "cell_type": "code",
   "execution_count": 120,
   "id": "ddd2a576-d283-43f5-8fcc-30a74034fa8c",
   "metadata": {},
   "outputs": [],
   "source": [
    "def setup(input):\n",
    "    monkeys = {}\n",
    "    for block in input.split(\"\\n\\n\"):\n",
    "        lines = block.split(\"\\n\")\n",
    "        name = lines[0][:-1].lower()\n",
    "        monkeys[name]= Monkey()\n",
    "    for block in input.split(\"\\n\\n\"):\n",
    "        lines = block.split(\"\\n\")\n",
    "        name = lines[0][:-1].lower()\n",
    "        this_monkey = monkeys[name]\n",
    "        this_monkey.setup_items([int(v) for v in lines[1].split(\": \")[1].split(\", \")])\n",
    "        funct = lines[2].split(\": \")[1].split(\"=\")[1]\n",
    "        this_monkey.setup_operation(funct)\n",
    "        this_monkey.setup_rule(int(lines[3].split(\"by \")[1]))\n",
    "        this_monkey.setup_dest(monkeys[lines[4].split(\"to \")[1]],monkeys[lines[5].split(\"to \")[1]])\n",
    "    supermodulo = prod_list([monkey.rule for monkey in monkeys.values()])\n",
    "    [monkey.set_modulo(supermodulo) for monkey in monkeys.values()]\n",
    "    return monkeys"
   ]
  },
  {
   "cell_type": "code",
   "execution_count": 112,
   "id": "41510a88-1cbd-4c2f-aed0-d35e2a99fb32",
   "metadata": {},
   "outputs": [
    {
     "name": "stdout",
     "output_type": "stream",
     "text": [
      "96577\n",
      "96577\n",
      "96577\n",
      "96577\n"
     ]
    }
   ],
   "source": [
    "all_monkeys = setup(test_input)\n",
    "for monkey in all_monkeys.values():\n",
    "    print (monkey.modulo)"
   ]
  },
  {
   "cell_type": "code",
   "execution_count": 126,
   "id": "9878b0b3-ca2f-43d2-abda-705f65e697c7",
   "metadata": {},
   "outputs": [
    {
     "data": {
      "text/plain": [
       "{'monkey 0': 3, 14, 5, 4,\n",
       " 'monkey 1': 9, 9, 8, 4, 15, 13,\n",
       " 'monkey 2': ,\n",
       " 'monkey 3': }"
      ]
     },
     "execution_count": 126,
     "metadata": {},
     "output_type": "execute_result"
    }
   ],
   "source": [
    "all_monkeys = setup(test_input)\n",
    "for i in range(1):\n",
    "    for name, monkey in all_monkeys.items():\n",
    "        while monkey.items:\n",
    "            monkey.inspect()\n",
    "all_monkeys"
   ]
  },
  {
   "cell_type": "code",
   "execution_count": null,
   "id": "20ffd82f-edba-4232-aad8-299fd8671575",
   "metadata": {},
   "outputs": [],
   "source": []
  },
  {
   "cell_type": "code",
   "execution_count": 134,
   "id": "f35def29-183b-477a-863c-0c01beae2a90",
   "metadata": {},
   "outputs": [
    {
     "data": {
      "text/plain": [
       "({'monkey 0': 2834256, 79975478295812, 566143663005896719716429770863, 15258399820876479889796603, 12960867722943538831904713, 296716369198130510563, 296716369198130510563, 2924131, 5695471, 5695471, 152791, 4791546, 4791546, 1286616, 6685086, 6315156,\n",
       "  'monkey 1': 3474843828232524, 1447563188581627329355838545532, 1006853425793762024536134158192, 1006853425793762024536134158192, 4817480506190248921225522277, 6926139658285298226582959537, 2708821354095199615868085017, 62013721162409276707667, 155509298252, 1323273677, 141791034, 1253035674, 371116284, 268902744, 268902744, 1397182974, 1397182974, 89373834,\n",
       "  'monkey 2': 4077505, 8051098,\n",
       "  'monkey 3': ,\n",
       "  'monkey 4': ,\n",
       "  'monkey 5': ,\n",
       "  'monkey 6': ,\n",
       "  'monkey 7': },\n",
       " [174975, 174976])"
      ]
     },
     "execution_count": 134,
     "metadata": {},
     "output_type": "execute_result"
    }
   ],
   "source": [
    "all_monkeys = setup(full_input)\n",
    "for i in range(10000):\n",
    "    for name, monkey in all_monkeys.items():\n",
    "        while monkey.items:\n",
    "            monkey.inspect()\n",
    "all_monkeys,sorted([v.inspection_count for v in all_monkeys.values()])[-2:]"
   ]
  },
  {
   "cell_type": "code",
   "execution_count": 136,
   "id": "a65b5c63-1dfc-4cb5-aa26-41e072de6e30",
   "metadata": {},
   "outputs": [
    {
     "data": {
      "text/plain": [
       "30616425600"
      ]
     },
     "execution_count": 136,
     "metadata": {},
     "output_type": "execute_result"
    }
   ],
   "source": [
    "174975*174976"
   ]
  },
  {
   "cell_type": "code",
   "execution_count": 63,
   "id": "bfc390c7-3348-4aac-9695-895baad2d85f",
   "metadata": {},
   "outputs": [
    {
     "name": "stdout",
     "output_type": "stream",
     "text": [
      "dis true\n",
      "dis true\n",
      "dis true\n",
      "dis true\n",
      "dis true\n"
     ]
    },
    {
     "data": {
      "text/plain": [
       "{'monkey 0': 89, 99, 98, 12.0, 7.0,\n",
       " 'monkey 1': 100, 100, 15.0, 7.0, 8.0,\n",
       " 'monkey 2': ,\n",
       " 'monkey 3': }"
      ]
     },
     "execution_count": 63,
     "metadata": {},
     "output_type": "execute_result"
    }
   ],
   "source": [
    "all_monkeys = setup(full_input)\n",
    "for i in range(5):\n",
    "    for name, monkey in all_monkeys.items():\n",
    "        while monkey.items:\n",
    "            monkey.inspect()\n",
    "all_monkeys"
   ]
  },
  {
   "cell_type": "code",
   "execution_count": 57,
   "id": "57ce098b-f279-4536-8652-22285b284339",
   "metadata": {},
   "outputs": [
    {
     "data": {
      "text/plain": [
       "22"
      ]
     },
     "execution_count": 57,
     "metadata": {},
     "output_type": "execute_result"
    }
   ],
   "source": [
    "1862%23"
   ]
  },
  {
   "cell_type": "code",
   "execution_count": 20,
   "id": "31f16f3f-4b15-4c3b-9ed2-94f5dfc9d2b6",
   "metadata": {},
   "outputs": [
    {
     "ename": "KeyboardInterrupt",
     "evalue": "",
     "output_type": "error",
     "traceback": [
      "\u001b[0;31m---------------------------------------------------------------------------\u001b[0m",
      "\u001b[0;31mKeyboardInterrupt\u001b[0m                         Traceback (most recent call last)",
      "Cell \u001b[0;32mIn[20], line 4\u001b[0m\n\u001b[1;32m      2\u001b[0m     \u001b[38;5;28;01mfor\u001b[39;00m name, monkey \u001b[38;5;129;01min\u001b[39;00m monkeys\u001b[38;5;241m.\u001b[39mitems():\n\u001b[1;32m      3\u001b[0m         \u001b[38;5;28;01mwhile\u001b[39;00m monkey\u001b[38;5;241m.\u001b[39mitems:\n\u001b[0;32m----> 4\u001b[0m             \u001b[43mmonkey\u001b[49m\u001b[38;5;241;43m.\u001b[39;49m\u001b[43minspect\u001b[49m\u001b[43m(\u001b[49m\u001b[43m)\u001b[49m\n\u001b[1;32m      5\u001b[0m [v\u001b[38;5;241m.\u001b[39minspection_count \u001b[38;5;28;01mfor\u001b[39;00m k,v \u001b[38;5;129;01min\u001b[39;00m monkeys\u001b[38;5;241m.\u001b[39mitems()]\n",
      "Cell \u001b[0;32mIn[1], line 25\u001b[0m, in \u001b[0;36mMonkey.inspect\u001b[0;34m(self)\u001b[0m\n\u001b[1;32m     23\u001b[0m item \u001b[38;5;241m=\u001b[39m \u001b[38;5;28mself\u001b[39m\u001b[38;5;241m.\u001b[39mitems\u001b[38;5;241m.\u001b[39mpop(\u001b[38;5;241m0\u001b[39m)\n\u001b[1;32m     24\u001b[0m \u001b[38;5;28mself\u001b[39m\u001b[38;5;241m.\u001b[39minspection_count\u001b[38;5;241m+\u001b[39m\u001b[38;5;241m=\u001b[39m\u001b[38;5;241m1\u001b[39m\n\u001b[0;32m---> 25\u001b[0m item \u001b[38;5;241m=\u001b[39m \u001b[38;5;28;43mself\u001b[39;49m\u001b[38;5;241;43m.\u001b[39;49m\u001b[43moperation\u001b[49m\u001b[43m(\u001b[49m\u001b[43mitem\u001b[49m\u001b[43m)\u001b[49m\n\u001b[1;32m     26\u001b[0m \u001b[38;5;66;03m# item //=3\u001b[39;00m\n\u001b[1;32m     27\u001b[0m \u001b[38;5;28;01mif\u001b[39;00m item \u001b[38;5;241m%\u001b[39m \u001b[38;5;28mself\u001b[39m\u001b[38;5;241m.\u001b[39mrule \u001b[38;5;241m==\u001b[39m \u001b[38;5;241m0\u001b[39m:\n",
      "File \u001b[0;32m<string>:1\u001b[0m, in \u001b[0;36m<lambda>\u001b[0;34m(old)\u001b[0m\n",
      "\u001b[0;31mKeyboardInterrupt\u001b[0m: "
     ]
    }
   ],
   "source": [
    "for i in range(980):\n",
    "    for name, monkey in monkeys.items():\n",
    "        while monkey.items:\n",
    "            monkey.inspect()\n",
    "[v.rule for k,v in monkeys.items()]"
   ]
  },
  {
   "cell_type": "code",
   "execution_count": 40,
   "id": "69a6ce6b-5b43-4db6-bd44-fdbaa3de8aab",
   "metadata": {},
   "outputs": [
    {
     "data": {
      "text/plain": [
       "[23, 19, 13, 17]"
      ]
     },
     "execution_count": 40,
     "metadata": {},
     "output_type": "execute_result"
    }
   ],
   "source": [
    "[v.rule for k,v in all_monkeys.items()]"
   ]
  },
  {
   "cell_type": "code",
   "execution_count": 43,
   "id": "815d8adb-1202-44b7-bb43-661adb2b1428",
   "metadata": {},
   "outputs": [
    {
     "name": "stdout",
     "output_type": "stream",
     "text": [
      "71401166742855301794027417780 13\n"
     ]
    }
   ],
   "source": [
    "for i in all_monkeys['monkey 0'].items:\n",
    "    for j in [v.rule for k,v in all_monkeys.items()]:\n",
    "        if i%j==0:\n",
    "            print (i,j)"
   ]
  },
  {
   "cell_type": "code",
   "execution_count": null,
   "id": "90a8585e-26e1-4d19-8854-afe19542c88b",
   "metadata": {},
   "outputs": [],
   "source": []
  }
 ],
 "metadata": {
  "kernelspec": {
   "display_name": "Python 3 (ipykernel)",
   "language": "python",
   "name": "python3"
  },
  "language_info": {
   "codemirror_mode": {
    "name": "ipython",
    "version": 3
   },
   "file_extension": ".py",
   "mimetype": "text/x-python",
   "name": "python",
   "nbconvert_exporter": "python",
   "pygments_lexer": "ipython3",
   "version": "3.9.6"
  }
 },
 "nbformat": 4,
 "nbformat_minor": 5
}
